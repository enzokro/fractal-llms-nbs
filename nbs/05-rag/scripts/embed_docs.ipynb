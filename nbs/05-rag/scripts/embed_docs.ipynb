{
 "cells": [
  {
   "cell_type": "markdown",
   "metadata": {},
   "source": [
    "# Embedding Text Documents "
   ]
  },
  {
   "cell_type": "code",
   "execution_count": 2,
   "metadata": {},
   "outputs": [],
   "source": [
    "# best practice notebook magic\n",
    "%load_ext autoreload\n",
    "%autoreload 2\n",
    "%matplotlib inline"
   ]
  },
  {
   "cell_type": "markdown",
   "metadata": {},
   "source": [
    "# Loading the embedding model"
   ]
  },
  {
   "cell_type": "code",
   "execution_count": 3,
   "metadata": {},
   "outputs": [],
   "source": [
    "from sentence_transformers import SentenceTransformer\n",
    "from fastcore.all import *\n",
    "import nltk\n",
    "import numpy as np\n",
    "\n",
    "model = SentenceTransformer('sentence-transformers/multi-qa-mpnet-base-cos-v1')#\"all-MiniLM-L6-v2\")"
   ]
  },
  {
   "cell_type": "markdown",
   "metadata": {},
   "source": [
    "Embedding a few sentences."
   ]
  },
  {
   "cell_type": "code",
   "execution_count": 4,
   "metadata": {},
   "outputs": [],
   "source": [
    "sentences = [\n",
    "    \"This framework generates embeddings for each input sentence\",\n",
    "    \"Sentences are passed as a list of string.\",\n",
    "    \"The quick brown fox jumps over the lazy dog.\",\n",
    "]\n",
    "sentence_embeddings = model.encode(sentences)\n",
    "\n",
    "def encode(txt: str) -> np.ndarray:\n",
    "    \"Small wraper to encode `txt` with the `model`.\"\n",
    "    return model.encode(txt)"
   ]
  },
  {
   "cell_type": "code",
   "execution_count": 8,
   "metadata": {},
   "outputs": [],
   "source": [
    "## viewing the embeddings\n",
    "# for sentence, embedding in zip(sentences, sentence_embeddings):\n",
    "#     print(\"Sentence:\", sentence)\n",
    "#     print(\"Embedding:\", embedding)\n",
    "#     print(\"\")"
   ]
  },
  {
   "cell_type": "markdown",
   "metadata": {},
   "source": [
    "# Loading different splitters"
   ]
  },
  {
   "cell_type": "markdown",
   "metadata": {},
   "source": [
    "Goal is to compare the workings and performance of different splitters."
   ]
  },
  {
   "cell_type": "code",
   "execution_count": 9,
   "metadata": {},
   "outputs": [],
   "source": [
    "from langchain.text_splitter import CharacterTextSplitter\n",
    "from langchain.text_splitter import NLTKTextSplitter\n",
    "from langchain.text_splitter import SpacyTextSplitter\n",
    "\n",
    "splitters = {\n",
    "    'char': CharacterTextSplitter(),\n",
    "    'nltk': NLTKTextSplitter(),\n",
    "    'spacy': SpacyTextSplitter(),\n",
    "}\n",
    "\n",
    "# start with the ntlk splitter\n",
    "splitter = splitters['char']"
   ]
  },
  {
   "cell_type": "markdown",
   "metadata": {},
   "source": [
    "# Sample document to embed"
   ]
  },
  {
   "cell_type": "code",
   "execution_count": 10,
   "metadata": {},
   "outputs": [],
   "source": [
    "# path with the extracted Diaxtasis content\n",
    "docs_path = Path(\"../content\")\n",
    "docs_path.ls()\n",
    "\n",
    "# start with the how-to guide\n",
    "fname = \"how-to-use-diataxis.txt\"\n"
   ]
  },
  {
   "cell_type": "code",
   "execution_count": 11,
   "metadata": {},
   "outputs": [],
   "source": [
    "# load the document\n",
    "with open(docs_path/fname, 'r') as f:\n",
    "    content = f.read()"
   ]
  },
  {
   "cell_type": "code",
   "execution_count": 12,
   "metadata": {},
   "outputs": [],
   "source": [
    "# cleanup the content\n",
    "content = content.replace(\" ¶ \", '. ')\n",
    "content = content.replace(\"\\r\", \" \")\n",
    "content = content.replace(\"\\\\.\", \".\")\n",
    "content = content.replace(\"\\.\", \" \")\n",
    "\n",
    "\n",
    "def diataxis_preproc(txt: str) -> str:\n",
    "    txt = txt.replace(\" ¶ \", '. ')\n",
    "    txt = txt.replace(\"\\r\", \" \")\n",
    "    txt = txt.replace(\"\\\\.\", \".\")\n",
    "    txt = txt.replace(\"\\.\", \" \")\n",
    "    return txt\n",
    "\n",
    "content = diataxis_preproc(content)\n",
    "\n",
    "content;"
   ]
  },
  {
   "cell_type": "code",
   "execution_count": 16,
   "metadata": {},
   "outputs": [],
   "source": [
    "# test the splitter on the cleaned content\n",
    "# NOTE: still not working\n",
    "splits = L(splitter.split_text(content));\n",
    "splits;"
   ]
  },
  {
   "cell_type": "code",
   "execution_count": 17,
   "metadata": {},
   "outputs": [],
   "source": [
    "# split the doc into sentences\n",
    "sentences = L(nltk.sent_tokenize(content))\n",
    "sentences\n",
    "\n",
    "def ntlk_sent_tokenize(txt: str) -> L:\n",
    "    \"Tokenize `txt` into sentences using the `nltk` sentence tokenizer.\"\n",
    "    return L(nltk.sent_tokenize(txt))\n",
    "\n",
    "sentences = ntlk_sent_tokenize(content)"
   ]
  },
  {
   "cell_type": "code",
   "execution_count": 18,
   "metadata": {},
   "outputs": [
    {
     "data": {
      "text/plain": [
       "('How to use Diátaxis.',\n",
       " 'However it can always be complete: useful to users, appropriate to its current stage of development, and in a healthy structural state and ready to go on to the next stage.')"
      ]
     },
     "execution_count": 18,
     "metadata": {},
     "output_type": "execute_result"
    }
   ],
   "source": [
    "sentences[0], sentences[-1]"
   ]
  },
  {
   "cell_type": "markdown",
   "metadata": {},
   "source": [
    "# Embedding the split up sentences"
   ]
  },
  {
   "cell_type": "code",
   "execution_count": 19,
   "metadata": {},
   "outputs": [
    {
     "data": {
      "text/plain": [
       "[(0, 'How to use Diátaxis.'),\n",
       " (1, 'In short, the answer is: pragmatically.'),\n",
       " (2,\n",
       "  'Diátaxis is based on sound theoretical principles and has been proven in practice, but it’s not the final word in documentation.'),\n",
       " (3,\n",
       "  'The only value that it can offer you is to be useful in helping make your documentation better for its users, and easier for you to create and maintain.'),\n",
       " (4,\n",
       "  'The best thing you can do with it therefore is take from it however much seems to work for you: as much or as little as you wish.'),\n",
       " (5, 'Use Diátaxis as a guide, not a plan.'),\n",
       " (6, 'Diátaxis describes a complete picture of documentation.'),\n",
       " (7,\n",
       "  'However the structure it proposes is not intended to be a plan, something you must complete in your documentation.'),\n",
       " (8,\n",
       "  'It’s a guide, a map to help you check that you’re in the right place and going in the right directions.'),\n",
       " (9,\n",
       "  'The point of Diátaxis is to give you a way to think about and understand your documentation, so that you can make better sense of what it’s doing and what you’re trying to do with it.'),\n",
       " (10,\n",
       "  'It provides tools that help assess it, identify where its problems lie, and judge what you can do to improve it.'),\n",
       " (11, 'Don’t worry about structure.'),\n",
       " (12,\n",
       "  'Although structure is key to documentation, using Diátaxis means not spending energy trying to get its structure correct.'),\n",
       " (13,\n",
       "  'If you continue to follow the prompts that Diátaxis provides, eventually your documentation will assume the Diátaxis structure - but it will have assumed that shape because it has been improved.'),\n",
       " (14,\n",
       "  'It’s not the other way round, that the structure must be imposed upon documentation to improve it.'),\n",
       " (15,\n",
       "  'In practice, this means that getting started with Diátaxis doesn’t require thinking about dividing up your documentation into the four sections, or writing out headings to put material under.'),\n",
       " (16,\n",
       "  'Instead, following the workflow described in the next two sections, make changes where you see opportunities for improvement according to Diátaxis principles, so that the documentation starts to take a certain shape.'),\n",
       " (17,\n",
       "  'At a certain point, the changes you have made will appear to demand that you move material under a certain Diátaxis heading - and that is how your top-level structure will form.'),\n",
       " (18,\n",
       "  'In other words, Diátaxis changes the structure of your documentation from the inside.'),\n",
       " (19, 'Work one step at a time.'),\n",
       " (20,\n",
       "  'Diátaxis strongly prescribes a structure, but whatever the state of your existing documentation - even if it’s a complete mess by any standards - it’s always possible to improve it, iteratively.'),\n",
       " (21,\n",
       "  'It’s natural to want to complete large tranches of work before you publish them, so that you have something substantial to show each time.'),\n",
       " (22,\n",
       "  'Avoid this temptation - every step in the right direction is worth publishing immediately.'),\n",
       " (23,\n",
       "  'Although Diátaxis is intended to provide a big picture of documentation, don’t try to work on the big picture.'),\n",
       " (24, 'It’s both unnecessary and unhelpful.'),\n",
       " (25,\n",
       "  'Diátaxis is designed to guide small steps; keep taking small steps to arrive where you want to go.'),\n",
       " (26, 'Just do something.'),\n",
       " (27,\n",
       "  'If you’re tidying up a huge mess, the temptation is to tear it all down and start again.'),\n",
       " (28, 'Again, avoid it.'),\n",
       " (29,\n",
       "  'As far as improving documentation in-line with Diátaxis goes, it isn’t necessary to seek out things to improve.'),\n",
       " (30,\n",
       "  'Instead, the best way to apply Diátaxis is as follows: Choose something - any piece of the documentation.'),\n",
       " (31,\n",
       "  'If you don’t already have something that you know you want to put right, don’t go looking for outstanding problems.'),\n",
       " (32,\n",
       "  'Just look at what you have right in front of you at that moment: the file you’re in, the last page you read - it doesn’t matter.'),\n",
       " (33, 'If there isn’t one just choose something, literally at random.'),\n",
       " (34, 'Assess it.'),\n",
       " (35, 'Next consider this thing critically.'),\n",
       " (36,\n",
       "  'Preferably it’s a small thing, nothing bigger than a page - or better, even smaller, a paragraph or a sentence.'),\n",
       " (37,\n",
       "  'Challenge it, according to the standards Diátaxis prescribes: What user need is represented by this?'),\n",
       " (38, 'How well does it serve that need?'),\n",
       " (39,\n",
       "  'What can be added, moved, removed or changed to serve that need better?'),\n",
       " (40,\n",
       "  'Do its language and logic meet the requirements of this mode of documentation?'),\n",
       " (41, 'Decide what to do.'),\n",
       " (42,\n",
       "  'Decide, based on your answers to those questions: What single next action will produce an immediate improvement here?'),\n",
       " (43, 'Do it.'),\n",
       " (44, 'Complete that next single action, and consider it completed - i.e.'),\n",
       " (45, 'publish it, or at least commit the change.'),\n",
       " (46,\n",
       "  'Don’t feel that you need to do anything else to make a worthy improvement.'),\n",
       " (47, 'And then go back to the beginning of the cycle.'),\n",
       " (48,\n",
       "  'Working like this helps reduce the stress of one of the most paralysing and troublesome aspects of the documentation-writer’s work: working out what to do.'),\n",
       " (49,\n",
       "  'It keeps work flowing in the right direction, always towards the desired end, without having to expend energies on a plan.'),\n",
       " (50, 'Allow your work to develop organically.'),\n",
       " (51,\n",
       "  'There’s a strong urge to work in a cycle of planning and execution in order to work towards results.'),\n",
       " (52,\n",
       "  'But it’s not the only way, and there are often better ways when working with documentation.'),\n",
       " (53, 'Well-formed organic growth.'),\n",
       " (54,\n",
       "  'A good model for documentation is well-formed organic growth that adapts to external conditions.'),\n",
       " (55, 'Organic growth takes place at the cellular level.'),\n",
       " (56,\n",
       "  'The structure of the organism as a whole is guaranteed by the healthy development of cells, according to rules that are appropriate to each kind of cell.'),\n",
       " (57,\n",
       "  'It’s not the other way round, that a structure is imposed on the organism from above or outside.'),\n",
       " (58, 'Good structure develops from within.'),\n",
       " (59,\n",
       "  'Illustration copyright Linette Voller 2021, reproduced with kind permission.. It’s the same with documentation: by following the principles that Diátaxis provides, your documentation will attain a healthy structure, because its internal components themselves are well-formed - like a living organism, it will have built itself up from the inside-out, one cell at a time.'),\n",
       " (60, 'Complete, not finished.'),\n",
       " (61, 'Consider a plant.'),\n",
       " (62,\n",
       "  'As a living, growing organism, a plant is never finished - it can always develop further, move on to the next stage of growth and maturity.'),\n",
       " (63,\n",
       "  'But, at every stage of its development, from seed to a fully-mature tree, it’s always complete - there’s never something missing from it.'),\n",
       " (64,\n",
       "  'At any point, it is in a state that is appropriate to its stage of development.'),\n",
       " (65,\n",
       "  'Similarly, documentation is also never finished, because it always has to keep adapting and changing to the product and to users’ needs, and can always be developed and improved further.'),\n",
       " (66,\n",
       "  'However it can always be complete: useful to users, appropriate to its current stage of development, and in a healthy structural state and ready to go on to the next stage.')]"
      ]
     },
     "execution_count": 19,
     "metadata": {},
     "output_type": "execute_result"
    }
   ],
   "source": [
    "list(enumerate(sentences))"
   ]
  },
  {
   "cell_type": "code",
   "execution_count": 180,
   "metadata": {},
   "outputs": [],
   "source": [
    "# embed the sentences\n",
    "embeds = L(enumerate(sentences)).map(\n",
    "    lambda obj: {'idx': obj[0], 'txt': obj[1], 'embed': encode(obj[1])},\n",
    ")"
   ]
  },
  {
   "cell_type": "code",
   "execution_count": 181,
   "metadata": {},
   "outputs": [],
   "source": [
    "import pandas as pd"
   ]
  },
  {
   "cell_type": "code",
   "execution_count": 182,
   "metadata": {},
   "outputs": [],
   "source": [
    "df = pd.DataFrame(embeds)"
   ]
  },
  {
   "cell_type": "code",
   "execution_count": 183,
   "metadata": {},
   "outputs": [
    {
     "data": {
      "text/html": [
       "<div>\n",
       "<style scoped>\n",
       "    .dataframe tbody tr th:only-of-type {\n",
       "        vertical-align: middle;\n",
       "    }\n",
       "\n",
       "    .dataframe tbody tr th {\n",
       "        vertical-align: top;\n",
       "    }\n",
       "\n",
       "    .dataframe thead th {\n",
       "        text-align: right;\n",
       "    }\n",
       "</style>\n",
       "<table border=\"1\" class=\"dataframe\">\n",
       "  <thead>\n",
       "    <tr style=\"text-align: right;\">\n",
       "      <th></th>\n",
       "      <th>idx</th>\n",
       "      <th>txt</th>\n",
       "      <th>embed</th>\n",
       "    </tr>\n",
       "  </thead>\n",
       "  <tbody>\n",
       "    <tr>\n",
       "      <th>0</th>\n",
       "      <td>0</td>\n",
       "      <td>How to use Diátaxis.</td>\n",
       "      <td>[0.049325798, -0.04237737, -0.0069784094, 0.01...</td>\n",
       "    </tr>\n",
       "    <tr>\n",
       "      <th>1</th>\n",
       "      <td>1</td>\n",
       "      <td>In short, the answer is: pragmatically.</td>\n",
       "      <td>[0.0022748124, 0.050606053, 0.004992658, -0.02...</td>\n",
       "    </tr>\n",
       "    <tr>\n",
       "      <th>2</th>\n",
       "      <td>2</td>\n",
       "      <td>Diátaxis is based on sound theoretical princip...</td>\n",
       "      <td>[0.03447037, 0.029921759, -0.013568475, 0.0060...</td>\n",
       "    </tr>\n",
       "    <tr>\n",
       "      <th>3</th>\n",
       "      <td>3</td>\n",
       "      <td>The only value that it can offer you is to be ...</td>\n",
       "      <td>[0.009317927, -0.0018541908, -0.014145311, -0....</td>\n",
       "    </tr>\n",
       "    <tr>\n",
       "      <th>4</th>\n",
       "      <td>4</td>\n",
       "      <td>The best thing you can do with it therefore is...</td>\n",
       "      <td>[0.03571525, 0.007364556, -0.003224689, 0.0388...</td>\n",
       "    </tr>\n",
       "    <tr>\n",
       "      <th>...</th>\n",
       "      <td>...</td>\n",
       "      <td>...</td>\n",
       "      <td>...</td>\n",
       "    </tr>\n",
       "    <tr>\n",
       "      <th>62</th>\n",
       "      <td>62</td>\n",
       "      <td>As a living, growing organism, a plant is neve...</td>\n",
       "      <td>[0.02837495, 0.038374577, -0.011913994, -0.022...</td>\n",
       "    </tr>\n",
       "    <tr>\n",
       "      <th>63</th>\n",
       "      <td>63</td>\n",
       "      <td>But, at every stage of its development, from s...</td>\n",
       "      <td>[0.03240156, 0.079276085, -0.029753845, 0.0153...</td>\n",
       "    </tr>\n",
       "    <tr>\n",
       "      <th>64</th>\n",
       "      <td>64</td>\n",
       "      <td>At any point, it is in a state that is appropr...</td>\n",
       "      <td>[-0.026164208, -0.029552646, 0.005358615, -0.0...</td>\n",
       "    </tr>\n",
       "    <tr>\n",
       "      <th>65</th>\n",
       "      <td>65</td>\n",
       "      <td>Similarly, documentation is also never finishe...</td>\n",
       "      <td>[0.06910032, -0.0031751303, -0.03958649, -0.05...</td>\n",
       "    </tr>\n",
       "    <tr>\n",
       "      <th>66</th>\n",
       "      <td>66</td>\n",
       "      <td>However it can always be complete: useful to u...</td>\n",
       "      <td>[0.014999954, 0.01749653, -0.019230604, -0.055...</td>\n",
       "    </tr>\n",
       "  </tbody>\n",
       "</table>\n",
       "<p>67 rows × 3 columns</p>\n",
       "</div>"
      ],
      "text/plain": [
       "    idx                                                txt  \\\n",
       "0     0                               How to use Diátaxis.   \n",
       "1     1            In short, the answer is: pragmatically.   \n",
       "2     2  Diátaxis is based on sound theoretical princip...   \n",
       "3     3  The only value that it can offer you is to be ...   \n",
       "4     4  The best thing you can do with it therefore is...   \n",
       "..  ...                                                ...   \n",
       "62   62  As a living, growing organism, a plant is neve...   \n",
       "63   63  But, at every stage of its development, from s...   \n",
       "64   64  At any point, it is in a state that is appropr...   \n",
       "65   65  Similarly, documentation is also never finishe...   \n",
       "66   66  However it can always be complete: useful to u...   \n",
       "\n",
       "                                                embed  \n",
       "0   [0.049325798, -0.04237737, -0.0069784094, 0.01...  \n",
       "1   [0.0022748124, 0.050606053, 0.004992658, -0.02...  \n",
       "2   [0.03447037, 0.029921759, -0.013568475, 0.0060...  \n",
       "3   [0.009317927, -0.0018541908, -0.014145311, -0....  \n",
       "4   [0.03571525, 0.007364556, -0.003224689, 0.0388...  \n",
       "..                                                ...  \n",
       "62  [0.02837495, 0.038374577, -0.011913994, -0.022...  \n",
       "63  [0.03240156, 0.079276085, -0.029753845, 0.0153...  \n",
       "64  [-0.026164208, -0.029552646, 0.005358615, -0.0...  \n",
       "65  [0.06910032, -0.0031751303, -0.03958649, -0.05...  \n",
       "66  [0.014999954, 0.01749653, -0.019230604, -0.055...  \n",
       "\n",
       "[67 rows x 3 columns]"
      ]
     },
     "execution_count": 183,
     "metadata": {},
     "output_type": "execute_result"
    }
   ],
   "source": [
    "df"
   ]
  },
  {
   "cell_type": "markdown",
   "metadata": {},
   "source": [
    "# Saving the output embeddings"
   ]
  },
  {
   "cell_type": "markdown",
   "metadata": {},
   "source": []
  },
  {
   "cell_type": "code",
   "execution_count": 188,
   "metadata": {},
   "outputs": [
    {
     "data": {
      "text/plain": [
       "(768,)"
      ]
     },
     "execution_count": 188,
     "metadata": {},
     "output_type": "execute_result"
    }
   ],
   "source": [
    "embeds[0]['embed'].shape"
   ]
  },
  {
   "cell_type": "code",
   "execution_count": 184,
   "metadata": {},
   "outputs": [],
   "source": [
    "\n",
    "# save it to embeds output path\n",
    "out_path = Path('../embeds')\n",
    "\n",
    "out_fname = 'test_embeds_v0.csv'\n",
    "df.to_csv(out_path / out_fname, index=False)"
   ]
  }
 ],
 "metadata": {
  "kernelspec": {
   "display_name": "llm-env",
   "language": "python",
   "name": "python3"
  },
  "language_info": {
   "codemirror_mode": {
    "name": "ipython",
    "version": 3
   },
   "file_extension": ".py",
   "mimetype": "text/x-python",
   "name": "python",
   "nbconvert_exporter": "python",
   "pygments_lexer": "ipython3",
   "version": "3.11.6"
  }
 },
 "nbformat": 4,
 "nbformat_minor": 2
}
